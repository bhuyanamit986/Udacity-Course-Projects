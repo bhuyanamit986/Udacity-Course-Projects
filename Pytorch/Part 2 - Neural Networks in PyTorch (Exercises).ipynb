{
 "cells": [
  {
   "cell_type": "markdown",
   "metadata": {},
   "source": [
    "# Neural networks with PyTorch\n",
    "\n",
    "Deep learning networks tend to be massive with dozens or hundreds of layers, that's where the term \"deep\" comes from. You can build one of these deep networks using only weight matrices as we did in the previous notebook, but in general it's very cumbersome and difficult to implement. PyTorch has a nice module `nn` that provides a nice way to efficiently build large neural networks."
   ]
  },
  {
   "cell_type": "code",
   "execution_count": 1,
   "metadata": {},
   "outputs": [],
   "source": [
    "# Import necessary packages\n",
    "\n",
    "%matplotlib inline\n",
    "%config InlineBackend.figure_format = 'retina'\n",
    "\n",
    "import numpy as np\n",
    "import torch\n",
    "\n",
    "import helper\n",
    "\n",
    "import matplotlib.pyplot as plt"
   ]
  },
  {
   "cell_type": "markdown",
   "metadata": {},
   "source": [
    "\n",
    "Now we're going to build a larger network that can solve a (formerly) difficult problem, identifying text in an image. Here we'll use the MNIST dataset which consists of greyscale handwritten digits. Each image is 28x28 pixels, you can see a sample below\n",
    "\n",
    "<img src='assets/mnist.png'>\n",
    "\n",
    "Our goal is to build a neural network that can take one of these images and predict the digit in the image.\n",
    "\n",
    "First up, we need to get our dataset. This is provided through the `torchvision` package. The code below will download the MNIST dataset, then create training and test datasets for us. Don't worry too much about the details here, you'll learn more about this later."
   ]
  },
  {
   "cell_type": "code",
   "execution_count": 2,
   "metadata": {},
   "outputs": [
    {
     "name": "stdout",
     "output_type": "stream",
     "text": [
      "Downloading http://yann.lecun.com/exdb/mnist/train-images-idx3-ubyte.gz\n",
      "Downloading http://yann.lecun.com/exdb/mnist/train-labels-idx1-ubyte.gz\n",
      "Downloading http://yann.lecun.com/exdb/mnist/t10k-images-idx3-ubyte.gz\n",
      "Downloading http://yann.lecun.com/exdb/mnist/t10k-labels-idx1-ubyte.gz\n",
      "Processing...\n",
      "Done!\n"
     ]
    }
   ],
   "source": [
    "### Run this cell\n",
    "\n",
    "from torchvision import datasets, transforms\n",
    "\n",
    "# Define a transform to normalize the data\n",
    "transform = transforms.Compose([transforms.ToTensor(),\n",
    "                              transforms.Normalize((0.5,), (0.5,)),\n",
    "                              ])\n",
    "\n",
    "# Download and load the training data\n",
    "trainset = datasets.MNIST('~/.pytorch/MNIST_data/', download=True, train=True, transform=transform)\n",
    "trainloader = torch.utils.data.DataLoader(trainset, batch_size=64, shuffle=True)"
   ]
  },
  {
   "cell_type": "markdown",
   "metadata": {},
   "source": [
    "We have the training data loaded into `trainloader` and we make that an iterator with `iter(trainloader)`. Later, we'll use this to loop through the dataset for training, like\n",
    "\n",
    "```python\n",
    "for image, label in trainloader:\n",
    "    ## do things with images and labels\n",
    "```\n",
    "\n",
    "You'll notice I created the `trainloader` with a batch size of 64, and `shuffle=True`. The batch size is the number of images we get in one iteration from the data loader and pass through our network, often called a *batch*. And `shuffle=True` tells it to shuffle the dataset every time we start going through the data loader again. But here I'm just grabbing the first batch so we can check out the data. We can see below that `images` is just a tensor with size `(64, 1, 28, 28)`. So, 64 images per batch, 1 color channel, and 28x28 images."
   ]
  },
  {
   "cell_type": "code",
   "execution_count": 3,
   "metadata": {},
   "outputs": [
    {
     "name": "stdout",
     "output_type": "stream",
     "text": [
      "<class 'torch.Tensor'>\n",
      "torch.Size([64, 1, 28, 28])\n",
      "torch.Size([64])\n"
     ]
    }
   ],
   "source": [
    "dataiter = iter(trainloader)\n",
    "images, labels = dataiter.next()\n",
    "print(type(images))\n",
    "print(images.shape)\n",
    "print(labels.shape)"
   ]
  },
  {
   "cell_type": "markdown",
   "metadata": {},
   "source": [
    "This is what one of the images looks like. "
   ]
  },
  {
   "cell_type": "code",
   "execution_count": 4,
   "metadata": {},
   "outputs": [
    {
     "data": {
      "image/png": "[encoded data removed]",
      "text/plain": [
       "<matplotlib.figure.Figure at 0x7f3df5411940>"
      ]
     },
     "metadata": {
      "image/png": {
       "height": 250,
       "width": 253
      },
      "needs_background": "light"
     },
     "output_type": "display_data"
    }
   ],
   "source": [
    "plt.imshow(images[1].numpy().squeeze(), cmap='Greys_r');"
   ]
  },
  {
   "cell_type": "markdown",
   "metadata": {},
   "source": [
    "First, let's try to build a simple network for this dataset using weight matrices and matrix multiplications. Then, we'll see how to do it using PyTorch's `nn` module which provides a much more convenient and powerful method for defining network architectures.\n",
    "\n",
    "The networks you've seen so far are called *fully-connected* or *dense* networks. Each unit in one layer is connected to each unit in the next layer. In fully-connected networks, the input to each layer must be a one-dimensional vector (which can be stacked into a 2D tensor as a batch of multiple examples). However, our images are 28x28 2D tensors, so we need to convert them into 1D vectors. Thinking about sizes, we need to convert the batch of images with shape `(64, 1, 28, 28)` to a have a shape of `(64, 784)`, 784 is 28 times 28. This is typically called *flattening*, we flattened the 2D images into 1D vectors.\n",
    "\n",
    "Previously you built a network with one output unit. Here we need 10 output units, one for each digit. We want our network to predict the digit shown in an image, so what we'll do is calculate probabilities that the image is of any one digit or class. This ends up being a discrete probability distribution over the classes (digits) that tells us the most likely class for the image. That means we need 10 output units for the 10 classes (digits). We'll see how to convert the network output into a probability distribution next.\n",
    "\n",
    "> **Exercise:** Flatten the batch of images `images`. Then build a multi-layer network with 784 input units, 256 hidden units, and 10 output units using random tensors for the weights and biases. For now, use a sigmoid activation for the hidden layer. Leave the output layer without an activation, we'll add one that gives us a probability distribution next."
   ]
  },
  {
   "cell_type": "code",
   "execution_count": 5,
   "metadata": {},
   "outputs": [],
   "source": [
    "## Your solution\n",
    "def activation(x):\n",
    "    return 1 / (1+torch.exp(-x))\n",
    "\n",
    "inputs = images.view(images.shape[0], -1)\n",
    "\n",
    "w1 = torch.randn(inputs.shape[1], 256)\n",
    "b1 = torch.randn(256)\n",
    "\n",
    "w2 = torch.randn(256, 10)\n",
    "b2 = torch.randn(10)\n",
    "\n",
    "hidden_inputs = torch.matmul(inputs, w1) + b1\n",
    "hidden_outputs = activation(hidden_inputs)\n",
    "\n",
    "final_inputs = torch.matmul(hidden_outputs, w2) + b2\n",
    "final_outputs = final_inputs\n",
    "\n",
    "out = final_outputs# output of your network, should have shape (64,10)"
   ]
  },
  {
   "cell_type": "code",
   "execution_count": 6,
   "metadata": {},
   "outputs": [
    {
     "data": {
      "text/plain": [
       "tensor([[-10.8365, -11.8443,  -2.1412, -11.8396,   3.3741, -20.7411,\n",
       "          18.2416,  27.7647,  13.6696,   2.7482],\n",
       "        [-11.2000, -13.5560,  -2.6452,  -1.3736,  14.2790, -17.6112,\n",
       "          17.3961,  25.2060,  13.9468, -12.4289],\n",
       "        [ -3.0379, -11.4018,   0.8370,   0.0356,  13.2129, -24.0952,\n",
       "          24.9783,  31.0572,   9.4075,  12.3291],\n",
       "        [-19.3419, -19.5504,  -3.6858,  -5.5194,   7.3672, -23.5262,\n",
       "          29.1827,  24.8864,  15.2119,   1.4151],\n",
       "        [-12.5595, -10.3242,  -3.5387,  -3.7165,  -1.5951, -24.0527,\n",
       "          26.4017,  26.6071,   2.1151,  -2.0474],\n",
       "        [ -5.9816, -13.5340,  -1.1817,  -3.8686,  16.1741, -19.8396,\n",
       "          10.4448,  36.4650,   3.7869,  -2.0411],\n",
       "        [-11.3471,  -8.4298,  -3.4854, -11.8368,  15.4411, -15.9533,\n",
       "          18.2582,  29.5408,   6.7298,  -5.1181],\n",
       "        [ -7.8093,  -6.4989,  -8.1453,  -3.6181,  13.5418, -22.1451,\n",
       "          23.3284,  34.1889,  11.5595,   1.0814],\n",
       "        [-15.6736, -16.0852,   0.5464,  -4.1044,  12.0322, -23.2193,\n",
       "          10.3310,  25.4348,   4.4098,  -7.2103],\n",
       "        [ -7.5235,  -0.0774,   6.5655,  -1.5954,  15.5091, -12.4997,\n",
       "          17.4941,  27.2131,   9.7112,  -4.8306],\n",
       "        [ -6.4593, -15.4445,   2.6050,  -5.6881,   8.6979, -26.5865,\n",
       "          11.1040,  29.8580,  13.3556,  -8.6652],\n",
       "        [-15.6116,  -5.5577,  -4.1229,  -1.4657,   1.1010, -22.3930,\n",
       "          21.6754,  20.8880,   5.0671,  -1.8094],\n",
       "        [-16.6295, -15.5721,  -2.9164,  -5.4730,  21.0997, -20.5798,\n",
       "          16.2718,  35.7123,   4.8753,  -7.2110],\n",
       "        [-20.0172, -15.7461,   2.8268,  -2.6322,   6.0213, -15.3788,\n",
       "          19.8639,  23.4732,   1.4109,  -7.8450],\n",
       "        [-14.4776, -13.0029,   0.2293,  -2.0046,  16.6191, -15.0744,\n",
       "          19.5240,  32.6835,  16.9443,  -7.2346],\n",
       "        [-13.8134,  -6.6123,  -3.8495,  -4.3644,   5.1544, -19.4414,\n",
       "          24.8338,  23.9487,  15.1600,   3.3063],\n",
       "        [-17.8233,  -8.5818,   0.2517,  -1.1590,  -0.7176, -21.0399,\n",
       "          19.0468,  19.6147,   0.3175,  -1.8976],\n",
       "        [-16.6444,  -7.8657,   0.0343,   2.7846,   7.8331, -21.3887,\n",
       "          21.4959,  22.8410,   3.1736,  -2.8793],\n",
       "        [-14.0305, -20.6731,  -5.0207,  -0.7508,   3.2416, -29.0897,\n",
       "          18.6576,  31.8772,   4.5053,  -4.1404],\n",
       "        [-14.4843, -17.8178,   0.2004,  -3.5562,   0.8719, -20.3555,\n",
       "          22.4081,  31.4168,  10.3023, -10.3829],\n",
       "        [-13.6961, -14.6293,   7.8656,   1.2621,  15.9288, -27.0953,\n",
       "           7.8221,  34.5642,   7.4183, -12.3893],\n",
       "        [-11.8138, -13.6442, -10.0698,   0.6007,   7.4892, -15.0591,\n",
       "          16.8712,  24.7537,   4.3663,  -2.5032],\n",
       "        [-18.3773, -12.7623,  -0.2929,   0.4349,  12.2554, -18.5457,\n",
       "          12.6049,  30.4750,  13.2617,  -3.8536],\n",
       "        [-18.8459, -10.5800,   1.8869,  -5.0703,  12.8567, -20.2063,\n",
       "          18.1566,  25.1836,  10.1006,  -9.8849],\n",
       "        [-13.4295, -12.7973,  -3.9066,  -4.2148,  10.8630, -17.0841,\n",
       "          18.6882,  28.4674,  14.1689,  -0.2243],\n",
       "        [-12.6533, -12.1273, -10.4520,  -3.1935,   4.9622, -19.5782,\n",
       "          21.3667,  31.0528,   6.7992,  -4.7061],\n",
       "        [ -7.9790, -10.8919,  -0.3994,  -5.4747,  10.7823, -15.8622,\n",
       "          24.8731,  36.5403,  13.7933,  -0.6881],\n",
       "        [-21.7761,  -3.5649,   0.8686,   2.7189,   1.4772, -21.7478,\n",
       "          20.4604,  22.9782,   3.5176,  -4.0765],\n",
       "        [-10.9065, -13.0472,  -6.9566,  -4.7634,   5.6149, -22.6655,\n",
       "          15.3031,  33.9893,  -1.1481,  -3.0322],\n",
       "        [-11.2930,  -9.3206,  -0.6279,  -3.9618,  13.1510, -18.6220,\n",
       "          21.9089,  26.7997,   7.5340, -12.0620],\n",
       "        [ -5.6236,   2.9659,  -3.4427,   1.0371,   9.0361, -14.9551,\n",
       "          19.9391,  28.6073,   3.5344,  -4.4308],\n",
       "        [-14.6992, -16.5194,  -1.7620,  -2.0801,   6.3799, -19.0602,\n",
       "          25.5581,  32.8329,   4.8117,  -0.0199],\n",
       "        [-13.5495,  -4.4832,  -7.1108,  -7.0233,  16.8181, -15.5433,\n",
       "          22.8312,  18.9753,   6.4799,  -2.4941],\n",
       "        [ -9.8225, -17.4574,  -6.9514,   3.3042,   8.9026, -20.4099,\n",
       "          13.7963,  33.4550,   3.6864,  -2.8116],\n",
       "        [ -2.9281, -16.6622,  -5.6516,   1.7207,  10.6194, -15.7418,\n",
       "          13.1549,  30.9143,  -2.1527,  -9.0129],\n",
       "        [ -9.9914,  -8.4096,  -7.9645,  -2.5762,   5.7216, -24.6412,\n",
       "          16.0727,  37.0811,  -1.0621,  -0.7266],\n",
       "        [-13.6673, -15.0709, -10.6586,  -4.8140,   8.7373, -19.5054,\n",
       "          17.7050,  30.6889,   7.8022,  -2.0190],\n",
       "        [-10.3689, -15.8730,  -2.2641,  -1.2274,   8.0225, -24.3759,\n",
       "          20.1998,  21.6668,  11.0160,   6.2552],\n",
       "        [-10.4023, -17.7305,  -6.5381,  -2.5327,  11.5249, -22.8330,\n",
       "          19.0963,  32.3779,   8.2486,   3.8058],\n",
       "        [ -1.5546, -11.7202,   5.2817,  -7.9066,  21.6353, -22.7277,\n",
       "          12.0116,  34.1468,  11.1424, -12.4088],\n",
       "        [-11.2023,  -3.1935,   1.1624, -11.7994,  12.8740, -14.0379,\n",
       "          13.6614,  26.3624,   1.6271,  -8.1954],\n",
       "        [-20.3840, -13.8870,  -4.2311,  -2.9973,  10.6031, -13.2879,\n",
       "          15.8966,  17.4228,   6.6390,   0.2146],\n",
       "        [-10.5234,  -3.0725,  -1.1201,  -7.6965,  20.2667, -13.4893,\n",
       "           6.1723,  32.1404,  11.4067,  -7.4642],\n",
       "        [-20.9202, -10.9857,  -6.2106,  -3.8496,   4.1195, -15.5790,\n",
       "          17.0711,  29.1622,   7.3683,  -4.0136],\n",
       "        [ -9.1593,  -9.0518,   1.6008,  -0.4867,  11.2848, -11.8922,\n",
       "          18.8666,  25.4331,   6.6463,   1.3369],\n",
       "        [-11.8304, -10.8731,   3.5943,  -1.4958,  12.6862, -21.3041,\n",
       "          22.0637,  27.8103,   7.2653,  -7.9775],\n",
       "        [-13.7526,  -7.2480,  -6.4615,   2.6725,  10.3765, -25.9218,\n",
       "          29.1967,  22.3401,  12.7113,  -5.3714],\n",
       "        [-12.9476, -14.4627,  -7.2270,  -6.6928,   8.2368, -30.9009,\n",
       "          14.4561,  22.5882,  -0.6465, -10.6209],\n",
       "        [-20.1759, -16.4703,   2.9508,   2.6732,  12.3284, -18.0585,\n",
       "          15.6473,  30.1442,   5.2888, -10.9355],\n",
       "        [-11.8643, -11.2218, -14.5552,  -0.4757,  19.1116, -22.4136,\n",
       "           8.9818,  29.7806,   7.0431,   8.5244],\n",
       "        [-15.4450,  -6.7769,   4.4983,  -6.5915,  15.7330, -20.7708,\n",
       "          22.9752,  30.8080,   7.0329,   0.2178],\n",
       "        [-11.5733, -19.3510,  -0.2077,  -6.6505,   8.7565, -20.6749,\n",
       "          18.4232,  22.5335,  11.9335,   1.0279],\n",
       "        [ -9.9430,  -9.5928,  -7.2657,   2.4998,  13.8879, -17.4486,\n",
       "          21.1716,  36.0672,  12.5682,   2.7125],\n",
       "        [-14.2368, -11.8055,   1.1223,  -6.7948,  13.0889, -18.8085,\n",
       "          15.9291,  28.5124,   9.2004, -11.4415],\n",
       "        [-14.6657,  -6.0308,  -6.1590,   0.3721,   5.1748, -26.1402,\n",
       "          23.4345,  22.9468,   3.0277,   2.6271],\n",
       "        [-11.3813,  -9.8963,  -7.3445,  -7.6793,   4.0593, -26.6166,\n",
       "          26.7216,  25.0485,   6.7180,  -1.6356],\n",
       "        [-17.4088, -17.4656,   3.2601,  -3.2204,  10.4646, -25.5044,\n",
       "          24.0093,  31.9956,   8.8017,   7.1005],\n",
       "        [ -7.7065,  -3.8863,  -0.0165,   1.6542,  10.4422, -23.7822,\n",
       "          25.0521,  28.5167,   3.5860,  -0.2212],\n",
       "        [-11.6636,  -8.9988,   2.1258,  -2.2470,   9.0935, -28.8816,\n",
       "          21.8976,  28.8316,  14.5755,   0.8085],\n",
       "        [-13.6161, -20.5912,  -5.2752,  -1.1412,   5.3410, -14.9554,\n",
       "          15.3368,  26.6015,   3.2114,  -1.7628],\n",
       "        [-12.3976, -13.6251,   2.4628,  -5.2746,   6.6959, -17.1355,\n",
       "          18.5039,  19.6765,   9.1475,   2.1845],\n",
       "        [-17.8634, -13.7463,   4.0086,  -4.9096,  18.2136, -17.6568,\n",
       "          19.6119,  30.3954,   4.3696,   2.6736],\n",
       "        [-14.7814, -18.8810,  -9.6531,   0.2449,  15.8683, -21.2604,\n",
       "          16.7238,  30.9170,  11.9394,   4.9634],\n",
       "        [-20.0075,  -9.8024,  -4.8305,  -2.3390,  12.3325, -18.9195,\n",
       "          23.7458,  35.2492,   6.3793,   2.2442]])"
      ]
     },
     "execution_count": 6,
     "metadata": {},
     "output_type": "execute_result"
    }
   ],
   "source": [
    "out"
   ]
  },
  {
   "cell_type": "markdown",
   "metadata": {},
   "source": [
    "Now we have 10 outputs for our network. We want to pass in an image to our network and get out a probability distribution over the classes that tells us the likely class(es) the image belongs to. Something that looks like this:\n",
    "<img src='assets/image_distribution.png' width=500px>\n",
    "\n",
    "Here we see that the probability for each class is roughly the same. This is representing an untrained network, it hasn't seen any data yet so it just returns a uniform distribution with equal probabilities for each class.\n",
    "\n",
    "To calculate this probability distribution, we often use the [**softmax** function](https://en.wikipedia.org/wiki/Softmax_function). Mathematically this looks like\n",
    "\n",
    "$$\n",
    "\\Large \\sigma(x_i) = \\cfrac{e^{x_i}}{\\sum_k^K{e^{x_k}}}\n",
    "$$\n",
    "\n",
    "What this does is squish each input $x_i$ between 0 and 1 and normalizes the values to give you a proper probability distribution where the probabilites sum up to one.\n",
    "\n",
    "> **Exercise:** Implement a function `softmax` that performs the softmax calculation and returns probability distributions for each example in the batch. Note that you'll need to pay attention to the shapes when doing this. If you have a tensor `a` with shape `(64, 10)` and a tensor `b` with shape `(64,)`, doing `a/b` will give you an error because PyTorch will try to do the division across the columns (called broadcasting) but you'll get a size mismatch. The way to think about this is for each of the 64 examples, you only want to divide by one value, the sum in the denominator. So you need `b` to have a shape of `(64, 1)`. This way PyTorch will divide the 10 values in each row of `a` by the one value in each row of `b`. Pay attention to how you take the sum as well. You'll need to define the `dim` keyword in `torch.sum`. Setting `dim=0` takes the sum across the rows while `dim=1` takes the sum across the columns."
   ]
  },
  {
   "cell_type": "code",
   "execution_count": 7,
   "metadata": {},
   "outputs": [
    {
     "name": "stdout",
     "output_type": "stream",
     "text": [
      "torch.Size([64, 10])\n",
      "tensor([ 1.0000,  1.0000,  1.0000,  1.0000,  1.0000,  1.0000,  1.0000,\n",
      "         1.0000,  1.0000,  1.0000,  1.0000,  1.0000,  1.0000,  1.0000,\n",
      "         1.0000,  1.0000,  1.0000,  1.0000,  1.0000,  1.0000,  1.0000,\n",
      "         1.0000,  1.0000,  1.0000,  1.0000,  1.0000,  1.0000,  1.0000,\n",
      "         1.0000,  1.0000,  1.0000,  1.0000,  1.0000,  1.0000,  1.0000,\n",
      "         1.0000,  1.0000,  1.0000,  1.0000,  1.0000,  1.0000,  1.0000,\n",
      "         1.0000,  1.0000,  1.0000,  1.0000,  1.0000,  1.0000,  1.0000,\n",
      "         1.0000,  1.0000,  1.0000,  1.0000,  1.0000,  1.0000,  1.0000,\n",
      "         1.0000,  1.0000,  1.0000,  1.0000,  1.0000,  1.0000,  1.0000,\n",
      "         1.0000])\n",
      "tensor([[ 1.7205e-17,  6.2805e-18,  1.0280e-13,  6.3100e-18,  2.5541e-11,\n",
      "          8.5933e-22,  7.3132e-05,  9.9993e-01,  7.5602e-07,  1.3659e-11],\n",
      "        [ 1.5448e-16,  1.4644e-17,  8.0200e-13,  2.8604e-12,  1.7958e-05,\n",
      "          2.5383e-19,  4.0551e-04,  9.9956e-01,  1.2883e-05,  4.5203e-17],\n",
      "        [ 1.5548e-15,  3.6248e-19,  7.4907e-14,  3.3610e-14,  1.7754e-08,\n",
      "          1.1133e-24,  2.2853e-03,  9.9771e-01,  3.9506e-10,  7.3361e-09],\n",
      "        [ 8.3207e-22,  6.7546e-22,  5.2423e-15,  8.3793e-16,  3.3096e-10,\n",
      "          1.2675e-23,  9.8656e-01,  1.3436e-02,  8.4468e-07,  8.6064e-13],\n",
      "        [ 5.3884e-18,  5.0377e-17,  4.4577e-14,  3.7319e-14,  3.1134e-13,\n",
      "          5.4954e-23,  4.4882e-01,  5.5118e-01,  1.2722e-11,  1.9806e-13],\n",
      "        [ 3.6785e-19,  1.9307e-22,  4.4692e-17,  3.0434e-18,  1.5409e-09,\n",
      "          3.5254e-25,  5.0069e-12,  1.0000e+00,  6.4282e-15,  1.8923e-17],\n",
      "        [ 1.7482e-18,  3.2328e-17,  4.5386e-15,  1.0714e-18,  7.5264e-07,\n",
      "          1.7465e-20,  1.2591e-05,  9.9999e-01,  1.2397e-10,  8.8683e-16],\n",
      "        [ 5.7597e-19,  2.1357e-18,  4.1163e-19,  3.8074e-17,  1.0792e-09,\n",
      "          3.4234e-25,  1.9202e-05,  9.9998e-01,  1.4865e-10,  4.1841e-15],\n",
      "        [ 1.4023e-18,  9.2917e-19,  1.5528e-11,  1.4835e-13,  1.5112e-06,\n",
      "          7.4096e-22,  2.7575e-07,  1.0000e+00,  7.3950e-10,  6.6440e-15],\n",
      "        [ 8.2052e-16,  1.4056e-12,  1.0785e-09,  3.0805e-13,  8.2608e-06,\n",
      "          5.6615e-18,  6.0131e-05,  9.9993e-01,  2.5062e-08,  1.2123e-14],\n",
      "        [ 1.6889e-16,  2.1151e-20,  1.4593e-12,  3.6519e-16,  6.4607e-10,\n",
      "          3.0650e-25,  7.1655e-09,  1.0000e+00,  6.8088e-08,  1.8602e-17],\n",
      "        [ 4.4013e-17,  1.0232e-12,  4.2958e-12,  6.1245e-11,  7.9757e-10,\n",
      "          4.9944e-20,  6.8727e-01,  3.1273e-01,  4.2093e-08,  4.3433e-11],\n",
      "        [ 1.8546e-23,  5.3389e-23,  1.6740e-17,  1.2985e-18,  4.5065e-07,\n",
      "          3.5699e-25,  3.6064e-09,  1.0000e+00,  4.0520e-14,  2.2837e-19],\n",
      "        [ 1.2611e-19,  9.0300e-18,  1.0515e-09,  4.4771e-12,  2.5653e-08,\n",
      "          1.3038e-17,  2.6357e-02,  9.7364e-01,  2.5519e-10,  2.4384e-14],\n",
      "        [ 3.2975e-21,  1.4409e-20,  8.0412e-15,  8.6123e-16,  1.0551e-07,\n",
      "          1.8154e-21,  1.9271e-06,  1.0000e+00,  1.4606e-07,  4.6109e-18],\n",
      "        [ 1.1633e-17,  1.5597e-14,  2.4712e-13,  1.4768e-13,  2.0103e-09,\n",
      "          4.1827e-20,  7.0786e-01,  2.9210e-01,  4.4528e-05,  3.1670e-10],\n",
      "        [ 3.5147e-17,  3.6257e-13,  2.4874e-09,  6.0686e-10,  9.4363e-10,\n",
      "          1.4091e-18,  3.6172e-01,  6.3828e-01,  2.6565e-09,  2.8994e-10],\n",
      "        [ 5.6381e-18,  3.6619e-14,  9.8774e-11,  1.5455e-09,  2.4078e-07,\n",
      "          4.9061e-20,  2.0667e-01,  7.9333e-01,  2.2803e-09,  5.3610e-12],\n",
      "        [ 1.1549e-20,  1.5054e-23,  9.4498e-17,  6.7584e-15,  3.6617e-13,\n",
      "          3.3295e-27,  1.8146e-06,  1.0000e+00,  1.2957e-12,  2.2790e-16],\n",
      "        [ 1.1623e-20,  4.1457e-22,  2.7722e-14,  6.4767e-16,  5.4255e-14,\n",
      "          3.2770e-23,  1.2232e-04,  9.9988e-01,  6.7611e-10,  7.0235e-19],\n",
      "        [ 1.0986e-21,  4.3205e-22,  2.5407e-12,  3.4443e-15,  8.0683e-09,\n",
      "          1.6659e-27,  2.4327e-12,  1.0000e+00,  1.6245e-12,  4.0585e-21],\n",
      "        [ 1.3144e-16,  2.1078e-17,  7.5190e-16,  3.2382e-11,  3.1764e-08,\n",
      "          5.1210e-18,  3.7712e-04,  9.9962e-01,  1.3986e-09,  1.4531e-12],\n",
      "        [ 6.0775e-22,  1.6682e-19,  4.3417e-14,  8.9899e-14,  1.2227e-08,\n",
      "          5.1353e-22,  1.7342e-08,  1.0000e+00,  3.3446e-08,  1.2339e-15],\n",
      "        [ 7.5482e-20,  2.9357e-16,  7.6211e-11,  7.2534e-14,  4.4273e-06,\n",
      "          1.9366e-20,  8.8681e-04,  9.9911e-01,  2.8129e-07,  5.8826e-16],\n",
      "        [ 6.3732e-19,  1.1993e-18,  8.7115e-15,  6.4014e-15,  2.2618e-08,\n",
      "          1.6490e-20,  5.6614e-05,  9.9994e-01,  6.1686e-07,  3.4618e-13],\n",
      "        [ 1.0439e-19,  1.7663e-19,  9.4331e-19,  1.3397e-15,  4.6660e-12,\n",
      "          1.0261e-22,  6.2134e-05,  9.9994e-01,  2.9292e-11,  2.9518e-16],\n",
      "        [ 4.6290e-20,  2.5144e-21,  9.0629e-17,  5.6640e-19,  6.5076e-12,\n",
      "          1.7453e-23,  8.5706e-06,  9.9999e-01,  1.3216e-10,  6.7908e-17],\n",
      "        [ 3.3867e-20,  2.7467e-12,  2.3135e-10,  1.4718e-09,  4.2517e-10,\n",
      "          3.4840e-20,  7.4618e-02,  9.2538e-01,  3.2711e-09,  1.6468e-12],\n",
      "        [ 3.1770e-20,  3.7354e-21,  1.6498e-18,  1.4789e-17,  4.7554e-13,\n",
      "          2.4840e-25,  7.6683e-09,  1.0000e+00,  5.4959e-16,  8.3518e-17],\n",
      "        [ 2.8397e-17,  2.0412e-16,  1.2164e-12,  4.3369e-14,  1.1727e-06,\n",
      "          1.8636e-20,  7.4594e-03,  9.9254e-01,  4.2631e-09,  1.3161e-17],\n",
      "        [ 1.3603e-15,  7.3118e-12,  1.2044e-14,  1.0625e-12,  3.1641e-09,\n",
      "          1.2051e-19,  1.7194e-04,  9.9983e-01,  1.2910e-11,  4.4838e-15],\n",
      "        [ 2.2740e-21,  3.6835e-22,  9.4480e-16,  6.8738e-16,  3.2458e-12,\n",
      "          2.9028e-23,  6.9228e-04,  9.9931e-01,  6.7646e-13,  5.3940e-15],\n",
      "        [ 1.5486e-16,  1.3409e-12,  9.6875e-14,  1.0574e-13,  2.3901e-03,\n",
      "          2.1087e-17,  9.7694e-01,  2.0666e-02,  7.7377e-08,  9.8004e-12],\n",
      "        [ 1.6025e-19,  7.7449e-23,  2.8296e-18,  8.0477e-14,  2.1728e-11,\n",
      "          4.0436e-24,  2.8995e-09,  1.0000e+00,  1.1793e-13,  1.7766e-16],\n",
      "        [ 2.0065e-15,  2.1767e-21,  1.3172e-16,  2.0960e-13,  1.5348e-09,\n",
      "          5.4643e-21,  1.9373e-08,  1.0000e+00,  4.3570e-15,  4.5690e-18],\n",
      "        [ 3.6030e-21,  1.7524e-20,  2.7350e-20,  5.9848e-18,  2.4029e-14,\n",
      "          1.5644e-27,  7.5188e-10,  1.0000e+00,  2.7202e-17,  3.8049e-17],\n",
      "        [ 5.4489e-20,  1.3389e-20,  1.1040e-18,  3.8130e-16,  2.9277e-10,\n",
      "          1.5881e-22,  2.2969e-06,  1.0000e+00,  1.1493e-10,  6.2393e-15],\n",
      "        [ 9.9306e-15,  4.0415e-17,  3.2873e-11,  9.2700e-11,  9.6439e-07,\n",
      "          8.1999e-21,  1.8739e-01,  8.1259e-01,  1.9244e-05,  1.6470e-07],\n",
      "        [ 2.6351e-19,  1.7306e-22,  1.2560e-17,  6.8945e-16,  8.7829e-10,\n",
      "          1.0524e-24,  1.7055e-06,  1.0000e+00,  3.3171e-11,  3.9018e-13],\n",
      "        [ 3.1269e-16,  1.2029e-20,  2.9112e-13,  5.4508e-19,  3.6841e-06,\n",
      "          1.9940e-25,  2.4368e-10,  1.0000e+00,  1.0217e-10,  6.0421e-21],\n",
      "        [ 4.8511e-17,  1.4589e-13,  1.1370e-11,  2.6700e-17,  1.3869e-06,\n",
      "          2.8469e-18,  3.0479e-06,  1.0000e+00,  1.8096e-11,  9.8112e-16],\n",
      "        [ 3.1253e-17,  2.0725e-14,  3.2360e-10,  1.1113e-09,  8.9624e-04,\n",
      "          3.7729e-14,  1.7838e-01,  8.2071e-01,  1.7015e-05,  2.7589e-08],\n",
      "        [ 2.9602e-19,  5.0960e-16,  3.5904e-15,  5.0010e-18,  6.9710e-06,\n",
      "          1.5249e-20,  5.2745e-12,  9.9999e-01,  9.8962e-10,  6.3084e-18],\n",
      "        [ 1.7762e-22,  3.6646e-18,  4.3431e-16,  4.6042e-15,  1.3308e-11,\n",
      "          3.7081e-20,  5.6094e-06,  9.9999e-01,  3.4282e-10,  3.9079e-15],\n",
      "        [ 9.4647e-16,  1.0539e-15,  4.4582e-11,  5.5284e-12,  7.1593e-07,\n",
      "          6.1549e-17,  1.4048e-03,  9.9859e-01,  6.9248e-09,  3.4243e-11],\n",
      "        [ 6.0658e-18,  1.5800e-17,  3.0321e-11,  1.8671e-13,  2.6933e-07,\n",
      "          4.6611e-22,  3.1836e-03,  9.9682e-01,  1.1913e-09,  2.8588e-16],\n",
      "        [ 2.2228e-19,  1.4853e-16,  3.2613e-16,  3.0216e-12,  6.6995e-09,\n",
      "          1.1532e-24,  9.9895e-01,  1.0514e-03,  6.9184e-08,  9.7011e-16],\n",
      "        [ 3.6885e-16,  8.1072e-17,  1.1253e-13,  1.9199e-13,  5.8498e-07,\n",
      "          5.8864e-24,  2.9386e-04,  9.9971e-01,  8.1128e-11,  3.7785e-15],\n",
      "        [ 1.4004e-22,  5.6963e-21,  1.5490e-12,  1.1735e-12,  1.8311e-08,\n",
      "          1.1636e-21,  5.0589e-07,  1.0000e+00,  1.6049e-11,  1.4431e-18],\n",
      "        [ 8.2004e-19,  1.5591e-18,  5.5615e-20,  7.2416e-14,  2.3254e-05,\n",
      "          2.1494e-23,  9.2719e-10,  9.9998e-01,  1.3341e-10,  5.8682e-10],\n",
      "        [ 8.1736e-21,  4.7524e-17,  3.7470e-12,  5.7203e-17,  2.8369e-07,\n",
      "          3.9761e-23,  3.9637e-04,  9.9960e-01,  4.7253e-11,  5.1839e-14],\n",
      "        [ 1.5155e-15,  6.3495e-19,  1.3078e-10,  2.0821e-13,  1.0225e-06,\n",
      "          1.6895e-19,  1.6138e-02,  9.8384e-01,  2.4515e-05,  4.4998e-10],\n",
      "        [ 1.0425e-20,  1.4796e-20,  1.5163e-19,  2.6416e-15,  2.3318e-10,\n",
      "          5.7335e-24,  3.3957e-07,  1.0000e+00,  6.2309e-11,  3.2680e-15],\n",
      "        [ 2.7181e-19,  3.0916e-18,  1.2724e-12,  4.6375e-16,  2.0029e-07,\n",
      "          2.8105e-21,  3.4289e-06,  1.0000e+00,  4.1011e-09,  4.4488e-18],\n",
      "        [ 1.7594e-17,  9.8963e-14,  8.7053e-14,  5.9731e-11,  7.2779e-09,\n",
      "          1.8283e-22,  6.1958e-01,  3.8042e-01,  8.5020e-10,  5.6954e-10],\n",
      "        [ 2.3847e-17,  1.0528e-16,  1.3508e-15,  9.6648e-16,  1.2112e-10,\n",
      "          5.7650e-24,  8.4199e-01,  1.5801e-01,  1.7292e-09,  4.0732e-13],\n",
      "        [ 3.4978e-22,  3.3047e-22,  3.3128e-13,  5.0784e-16,  4.4570e-10,\n",
      "          1.0664e-25,  3.3997e-04,  9.9966e-01,  8.4504e-11,  1.5418e-11],\n",
      "        [ 1.7991e-16,  8.2069e-15,  3.9336e-13,  2.0912e-12,  1.3708e-08,\n",
      "          1.8772e-23,  3.0335e-02,  9.6966e-01,  1.4433e-11,  3.2055e-13],\n",
      "        [ 2.5867e-18,  3.7158e-17,  2.5201e-12,  3.1792e-14,  2.6757e-09,\n",
      "          8.6116e-26,  9.7321e-04,  9.9903e-01,  6.4306e-07,  6.7505e-13],\n",
      "        [ 3.4176e-18,  3.1950e-21,  1.4326e-14,  8.9431e-13,  5.8437e-10,\n",
      "          8.9554e-19,  1.2817e-05,  9.9999e-01,  6.9473e-11,  4.8033e-13],\n",
      "        [ 8.9790e-15,  2.6313e-15,  2.5530e-08,  1.1136e-11,  1.7598e-06,\n",
      "          7.8636e-17,  2.3637e-01,  7.6361e-01,  2.0425e-05,  1.9327e-08],\n",
      "        [ 1.1002e-21,  6.7533e-20,  3.4703e-12,  4.6480e-16,  5.1229e-06,\n",
      "          1.3528e-21,  2.0740e-05,  9.9997e-01,  4.9792e-12,  9.1327e-13],\n",
      "        [ 1.4237e-20,  2.3604e-22,  2.4024e-18,  4.7781e-14,  2.9135e-07,\n",
      "          2.1859e-23,  6.8543e-07,  1.0000e+00,  5.7299e-09,  5.3519e-12],\n",
      "        [ 1.0054e-24,  2.7185e-20,  3.9229e-18,  4.7385e-17,  1.1153e-10,\n",
      "          2.9842e-24,  1.0095e-05,  9.9999e-01,  2.8971e-13,  4.6358e-15]])\n"
     ]
    }
   ],
   "source": [
    "def softmax(x):\n",
    "    ## TODO: Implement the softmax function here\n",
    "    return torch.exp(x) / torch.sum(torch.exp(x), dim = 1).view(-1, 1)\n",
    "\n",
    "# Here, out should be the output of the network in the previous excercise with shape (64,10)\n",
    "probabilities = softmax(out)\n",
    "\n",
    "# Does it have the right shape? Should be (64, 10)\n",
    "print(probabilities.shape)\n",
    "# Does it sum to 1?\n",
    "print(probabilities.sum(dim=1))\n",
    "print(probabilities)"
   ]
  },
  {
   "cell_type": "markdown",
   "metadata": {},
   "source": [
    "## Building networks with PyTorch\n",
    "\n",
    "PyTorch provides a module `nn` that makes building networks much simpler. Here I'll show you how to build the same one as above with 784 inputs, 256 hidden units, 10 output units and a softmax output."
   ]
  },
  {
   "cell_type": "code",
   "execution_count": 8,
   "metadata": {},
   "outputs": [],
   "source": [
    "from torch import nn"
   ]
  },
  {
   "cell_type": "code",
   "execution_count": 9,
   "metadata": {},
   "outputs": [],
   "source": [
    "class Network(nn.Module):\n",
    "    def __init__(self):\n",
    "        super().__init__()\n",
    "        \n",
    "        # Inputs to hidden layer linear transformation\n",
    "        self.hidden = nn.Linear(784, 256)\n",
    "        # Output layer, 10 units - one for each digit\n",
    "        self.output = nn.Linear(256, 10)\n",
    "        \n",
    "        # Define sigmoid activation and softmax output \n",
    "        self.sigmoid = nn.Sigmoid()\n",
    "        self.softmax = nn.Softmax(dim=1)\n",
    "        \n",
    "    def forward(self, x):\n",
    "        # Pass the input tensor through each of our operations\n",
    "        x = self.hidden(x)\n",
    "        x = self.sigmoid(x)\n",
    "        x = self.output(x)\n",
    "        x = self.softmax(x)\n",
    "        \n",
    "        return x"
   ]
  },
  {
   "cell_type": "markdown",
   "metadata": {},
   "source": [
    "Let's go through this bit by bit.\n",
    "\n",
    "```python\n",
    "class Network(nn.Module):\n",
    "```\n",
    "\n",
    "Here we're inheriting from `nn.Module`. Combined with `super().__init__()` this creates a class that tracks the architecture and provides a lot of useful methods and attributes. It is mandatory to inherit from `nn.Module` when you're creating a class for your network. The name of the class itself can be anything.\n",
    "\n",
    "```python\n",
    "self.hidden = nn.Linear(784, 256)\n",
    "```\n",
    "\n",
    "This line creates a module for a linear transformation, $x\\mathbf{W} + b$, with 784 inputs and 256 outputs and assigns it to `self.hidden`. The module automatically creates the weight and bias tensors which we'll use in the `forward` method. You can access the weight and bias tensors once the network (`net`) is created with `net.hidden.weight` and `net.hidden.bias`.\n",
    "\n",
    "```python\n",
    "self.output = nn.Linear(256, 10)\n",
    "```\n",
    "\n",
    "Similarly, this creates another linear transformation with 256 inputs and 10 outputs.\n",
    "\n",
    "```python\n",
    "self.sigmoid = nn.Sigmoid()\n",
    "self.softmax = nn.Softmax(dim=1)\n",
    "```\n",
    "\n",
    "Here I defined operations for the sigmoid activation and softmax output. Setting `dim=1` in `nn.Softmax(dim=1)` calculates softmax across the columns.\n",
    "\n",
    "```python\n",
    "def forward(self, x):\n",
    "```\n",
    "\n",
    "PyTorch networks created with `nn.Module` must have a `forward` method defined. It takes in a tensor `x` and passes it through the operations you defined in the `__init__` method.\n",
    "\n",
    "```python\n",
    "x = self.hidden(x)\n",
    "x = self.sigmoid(x)\n",
    "x = self.output(x)\n",
    "x = self.softmax(x)\n",
    "```\n",
    "\n",
    "Here the input tensor `x` is passed through each operation a reassigned to `x`. We can see that the input tensor goes through the hidden layer, then a sigmoid function, then the output layer, and finally the softmax function. It doesn't matter what you name the variables here, as long as the inputs and outputs of the operations match the network architecture you want to build. The order in which you define things in the `__init__` method doesn't matter, but you'll need to sequence the operations correctly in the `forward` method.\n",
    "\n",
    "Now we can create a `Network` object."
   ]
  },
  {
   "cell_type": "code",
   "execution_count": 10,
   "metadata": {},
   "outputs": [
    {
     "data": {
      "text/plain": [
       "Network(\n",
       "  (hidden): Linear(in_features=784, out_features=256, bias=True)\n",
       "  (output): Linear(in_features=256, out_features=10, bias=True)\n",
       "  (sigmoid): Sigmoid()\n",
       "  (softmax): Softmax()\n",
       ")"
      ]
     },
     "execution_count": 10,
     "metadata": {},
     "output_type": "execute_result"
    }
   ],
   "source": [
    "# Create the network and look at it's text representation\n",
    "model = Network()\n",
    "model"
   ]
  },
  {
   "cell_type": "markdown",
   "metadata": {},
   "source": [
    "You can define the network somewhat more concisely and clearly using the `torch.nn.functional` module. This is the most common way you'll see networks defined as many operations are simple element-wise functions. We normally import this module as `F`, `import torch.nn.functional as F`."
   ]
  },
  {
   "cell_type": "code",
   "execution_count": 11,
   "metadata": {},
   "outputs": [],
   "source": [
    "import torch.nn.functional as F\n",
    "\n",
    "class Network(nn.Module):\n",
    "    def __init__(self):\n",
    "        super().__init__()\n",
    "        # Inputs to hidden layer linear transformation\n",
    "        self.hidden = nn.Linear(784, 256)\n",
    "        # Output layer, 10 units - one for each digit\n",
    "        self.output = nn.Linear(256, 10)\n",
    "        \n",
    "    def forward(self, x):\n",
    "        # Hidden layer with sigmoid activation\n",
    "        x = F.sigmoid(self.hidden(x))\n",
    "        # Output layer with softmax activation\n",
    "        x = F.softmax(self.output(x), dim=1)\n",
    "        \n",
    "        return x"
   ]
  },
  {
   "cell_type": "markdown",
   "metadata": {},
   "source": [
    "### Activation functions\n",
    "\n",
    "So far we've only been looking at the softmax activation, but in general any function can be used as an activation function. The only requirement is that for a network to approximate a non-linear function, the activation functions must be non-linear. Here are a few more examples of common activation functions: Tanh (hyperbolic tangent), and ReLU (rectified linear unit).\n",
    "\n",
    "<img src=\"assets/activation.png\" width=700px>\n",
    "\n",
    "In practice, the ReLU function is used almost exclusively as the activation function for hidden layers."
   ]
  },
  {
   "cell_type": "markdown",
   "metadata": {},
   "source": [
    "### Your Turn to Build a Network\n",
    "\n",
    "<img src=\"assets/mlp_mnist.png\" width=600px>\n",
    "\n",
    "> **Exercise:** Create a network with 784 input units, a hidden layer with 128 units and a ReLU activation, then a hidden layer with 64 units and a ReLU activation, and finally an output layer with a softmax activation as shown above. You can use a ReLU activation with the `nn.ReLU` module or `F.relu` function."
   ]
  },
  {
   "cell_type": "code",
   "execution_count": 40,
   "metadata": {
    "scrolled": true
   },
   "outputs": [],
   "source": [
    "## Your solution here\n",
    "import torch.nn.functional as F\n",
    "\n",
    "class DeepNet(nn.Module):\n",
    "    def __init__(self):\n",
    "        super().__init__()\n",
    "        \n",
    "        self.hidden_1 = nn.Linear(784, 128)\n",
    "        self.hidden_2 = nn.Linear(128, 64)\n",
    "        self.output = nn.Linear(64, 10)\n",
    "        \n",
    "    def forward(self, x):\n",
    "        x = F.relu(self.hidden_1(x))\n",
    "        x = F.relu(self.hidden_2(x))\n",
    "        x = F.softmax(self.output(x), dim = 1)\n",
    "        \n",
    "        return x"
   ]
  },
  {
   "cell_type": "markdown",
   "metadata": {},
   "source": [
    "### Initializing weights and biases\n",
    "\n",
    "The weights and such are automatically initialized for you, but it's possible to customize how they are initialized. The weights and biases are tensors attached to the layer you defined, you can get them with `model.fc1.weight` for instance."
   ]
  },
  {
   "cell_type": "code",
   "execution_count": 41,
   "metadata": {},
   "outputs": [
    {
     "name": "stdout",
     "output_type": "stream",
     "text": [
      "Parameter containing:\n",
      "tensor([[ 1.2301e-02, -2.2688e-02, -3.1285e-02,  ..., -2.1978e-02,\n",
      "          2.4275e-04, -5.6450e-03],\n",
      "        [-3.0336e-02,  3.3079e-03, -2.3281e-02,  ...,  1.2813e-02,\n",
      "          2.1307e-02, -5.1737e-04],\n",
      "        [ 2.9205e-02,  8.0421e-03,  1.6671e-02,  ..., -6.3676e-03,\n",
      "         -5.4038e-03,  3.6860e-03],\n",
      "        ...,\n",
      "        [-2.2024e-03,  2.8358e-02, -3.5306e-02,  ..., -2.6086e-02,\n",
      "         -2.2109e-02,  6.0669e-03],\n",
      "        [-7.4859e-04, -2.5435e-02, -9.1953e-03,  ...,  3.5332e-03,\n",
      "         -1.1952e-02, -7.7248e-03],\n",
      "        [ 2.0787e-02,  1.2064e-02, -2.7679e-02,  ..., -2.2447e-02,\n",
      "         -3.9733e-03,  2.8183e-02]])\n",
      "Parameter containing:\n",
      "tensor(1.00000e-02 *\n",
      "       [ 0.2126,  2.2779, -3.5430, -1.8864, -0.8681, -1.8371, -0.1951,\n",
      "         0.4597, -0.1521, -2.8645, -2.1793,  1.1146,  0.6239, -1.3354,\n",
      "         1.5463,  0.4449,  2.2870, -0.7872, -2.2986, -0.5049,  3.2804,\n",
      "        -3.1871, -2.9465,  0.7562, -3.0290,  3.4886,  3.4886,  0.7238,\n",
      "        -0.4725, -0.5373, -2.0806, -0.0816, -1.4233,  0.5616,  2.2382,\n",
      "         0.9823,  2.0648,  1.4592, -0.6516,  1.5273,  2.3629, -3.5319,\n",
      "        -0.0439, -3.0910,  2.3800,  0.2680,  2.4079, -2.3980,  1.9356,\n",
      "        -1.8024, -0.6208,  2.6752,  2.3871, -2.7764, -2.3462,  2.6026,\n",
      "         0.1262, -2.9106, -3.2760, -1.3211, -3.4886, -2.1377,  0.2111,\n",
      "        -0.5275, -3.5657,  1.1399,  0.4201, -2.5175,  1.9148, -1.5347,\n",
      "        -0.8319, -0.9106,  1.1492,  0.1210,  1.2561,  2.6164,  0.1614,\n",
      "        -3.0663,  1.1599,  0.7702,  1.3120,  0.4066, -2.7962,  2.6907,\n",
      "         2.2059,  2.2662, -2.3908, -1.6366, -3.0707, -1.0541,  3.3516,\n",
      "         2.7200,  0.3524, -2.9514, -1.1642, -1.7716,  0.3762,  1.9043,\n",
      "        -3.5550,  1.6877, -2.7088, -0.2605,  1.5429,  1.7719,  1.2987,\n",
      "        -2.2787,  3.5538, -0.2174, -1.0168, -1.4971,  0.1158, -3.3046,\n",
      "         2.5135,  2.5326,  0.4179,  0.2305,  0.7514, -1.3521, -2.9655,\n",
      "         3.3589,  2.4137, -0.3977, -3.1610,  3.5323, -2.0392, -2.9304,\n",
      "         2.6838,  1.0505])\n"
     ]
    }
   ],
   "source": [
    "model = DeepNet()\n",
    "print(model.hidden_1.weight)\n",
    "print(model.hidden_1.bias)"
   ]
  },
  {
   "cell_type": "markdown",
   "metadata": {},
   "source": [
    "For custom initialization, we want to modify these tensors in place. These are actually autograd *Variables*, so we need to get back the actual tensors with `model.fc1.weight.data`. Once we have the tensors, we can fill them with zeros (for biases) or random normal values."
   ]
  },
  {
   "cell_type": "code",
   "execution_count": 42,
   "metadata": {},
   "outputs": [
    {
     "data": {
      "text/plain": [
       "tensor([ 0.,  0.,  0.,  0.,  0.,  0.,  0.,  0.,  0.,  0.])"
      ]
     },
     "execution_count": 42,
     "metadata": {},
     "output_type": "execute_result"
    }
   ],
   "source": [
    "# Set biases to all zeros\n",
    "model.hidden_1.bias.data.fill_(0)\n",
    "model.hidden_2.bias.data.fill_(0)\n",
    "model.output.bias.data.fill_(0)"
   ]
  },
  {
   "cell_type": "code",
   "execution_count": 43,
   "metadata": {},
   "outputs": [
    {
     "data": {
      "text/plain": [
       "tensor(1.00000e-02 *\n",
       "       [[ 1.1666,  1.1940,  0.2718,  0.5742, -0.1857,  0.7277, -0.2446,\n",
       "          0.2650,  0.6973,  0.3887, -1.4827, -0.8345, -0.8439,  0.6894,\n",
       "         -0.3356,  2.5944,  0.1235, -1.1824, -1.0743,  1.0022, -0.2656,\n",
       "         -0.4675,  1.9668,  1.4376,  2.1017,  1.1097,  0.8545,  0.5390,\n",
       "          1.3134, -1.2846,  0.0767, -0.2165,  1.9408, -0.0724, -1.8549,\n",
       "          0.9178, -1.8939,  1.2293, -0.7933,  0.0171,  0.5119, -1.9102,\n",
       "          0.8859, -0.0844,  0.2996, -1.2436, -0.8876, -0.3684,  0.2900,\n",
       "          1.9677, -0.2453, -0.7381,  0.0843, -0.3105,  0.8456, -1.6115,\n",
       "          0.0111, -1.9568,  0.9493, -0.5936,  0.7809,  0.3389,  0.2160,\n",
       "         -0.4916],\n",
       "        [-0.4930,  1.7857,  0.7210,  0.2521,  0.7490, -0.3108,  1.3058,\n",
       "          0.6461,  0.7516,  0.7687,  0.9099,  1.4688,  2.2363,  0.7579,\n",
       "         -0.3397,  1.0794,  0.2266, -1.3102, -0.1766,  0.2430,  2.1953,\n",
       "         -1.6308,  1.6523,  0.9798, -0.5246,  0.0270,  0.7294,  2.0915,\n",
       "          0.3237,  1.1348,  0.5996, -2.0032, -0.6693,  0.9799, -0.1325,\n",
       "         -0.8669,  0.9709,  0.0198, -0.4425,  0.1865, -1.2181, -1.5084,\n",
       "         -0.2704,  0.6924,  0.4190, -0.6467, -0.3299, -0.6061,  0.8641,\n",
       "         -1.5860,  1.8023, -0.2075, -0.2631,  0.2301,  1.3748, -0.7321,\n",
       "          0.3619, -0.3652, -0.8520,  0.1265,  0.6517,  0.6065, -0.4979,\n",
       "          1.2472],\n",
       "        [-0.2041, -0.4564, -0.9795,  1.1658, -0.3126, -0.7516,  0.0816,\n",
       "         -1.3026, -0.5900, -2.2803, -0.1265,  1.6474,  0.0703,  0.0241,\n",
       "          0.9226, -1.0714, -0.2406, -0.5073,  0.2421,  0.1921,  0.7148,\n",
       "         -0.1391, -1.3041,  1.8767, -0.4337,  0.7118, -1.5001, -0.4084,\n",
       "          0.7395,  1.2282, -0.3041,  0.7370, -0.8906,  1.0397, -1.1177,\n",
       "         -0.8434, -1.6258,  0.2572,  0.3646, -0.0707, -1.0608,  0.4000,\n",
       "         -0.9367, -0.6777,  0.8788,  1.4163,  2.0110, -2.0207, -0.2604,\n",
       "         -0.1526, -0.8547, -0.8312,  0.8939,  1.0918,  0.4950,  0.1112,\n",
       "         -0.7467,  0.0367,  1.2285, -0.3597,  0.8751, -0.5134, -0.4250,\n",
       "          2.3584],\n",
       "        [-0.0597,  1.2494, -0.5296,  0.6418, -0.6388, -1.3405,  0.1642,\n",
       "          0.3910,  0.5528,  1.1187,  1.8606, -1.1436,  0.7703,  0.5922,\n",
       "         -0.0755,  0.6869, -1.4242,  0.8749,  0.4782,  1.9772, -0.4384,\n",
       "          0.2291, -2.0344, -0.0395,  0.8813,  0.0181,  0.2158,  0.9922,\n",
       "         -0.8844, -0.8701,  1.1181,  0.4917, -0.8746, -1.4318,  1.6803,\n",
       "          1.9416, -0.0134, -0.5623,  0.4200,  0.4982, -0.5973, -2.0118,\n",
       "         -2.1819, -0.7002,  1.5243, -0.8064, -1.0171, -0.0728,  0.7526,\n",
       "          0.5345, -0.8361, -0.3992, -0.0404, -0.3047,  1.1073,  0.2968,\n",
       "          1.4353,  0.0495,  0.1315, -0.1388, -0.3584, -0.7218, -1.7859,\n",
       "         -0.0032],\n",
       "        [ 1.5094, -0.0634,  1.9072,  0.5995, -2.0254, -1.1200,  0.0491,\n",
       "          1.6140,  1.4025, -0.3175,  1.9337, -0.6874,  0.4996, -1.2466,\n",
       "         -0.3607, -1.4220, -0.4376, -0.6095,  0.1945, -0.3160, -0.7572,\n",
       "          1.7157, -0.2307,  0.1599, -0.0819,  1.4341,  0.4445,  0.8179,\n",
       "         -1.3325,  0.6620,  0.1071,  0.1067, -1.5719,  0.2004,  0.4020,\n",
       "         -0.7610,  0.7957,  1.3792, -0.1934, -1.1979, -0.5493, -1.2271,\n",
       "         -0.6430, -0.8812,  0.3047, -0.1434,  0.2167,  0.7034, -0.8721,\n",
       "          0.0891,  0.2031, -0.8657, -0.7540, -1.4080,  0.2647, -1.0070,\n",
       "         -0.9758, -0.0340,  0.6615,  0.4255,  0.0103,  0.6618,  1.0629,\n",
       "         -2.7882],\n",
       "        [ 0.2006,  0.1008,  0.7155, -0.5049, -1.4976, -0.5720,  0.5862,\n",
       "         -0.5627, -0.9058, -0.6508, -0.4610, -0.2899,  0.5056, -0.0320,\n",
       "         -0.1492, -0.2893,  0.5520,  0.7917, -0.5516, -0.4221,  0.5288,\n",
       "          1.2915,  2.2082,  0.4232,  0.3461,  0.8253,  0.0631, -0.7716,\n",
       "         -0.4555, -1.1059, -0.7009,  0.7343,  0.0543, -1.5488, -1.4366,\n",
       "         -1.8139, -0.4311, -0.7529,  0.5499, -0.9644, -0.5057,  0.3836,\n",
       "          0.2042, -0.1506, -0.0810,  1.0676,  0.3734, -0.6016,  0.9543,\n",
       "         -1.2078,  0.2712, -0.8280,  1.2283, -0.0676,  2.2994,  0.6459,\n",
       "         -1.4313,  0.2149,  0.1144,  0.6954,  0.4071,  0.2997,  0.3424,\n",
       "         -1.2326],\n",
       "        [-1.4228,  0.2239,  1.3576, -0.3606,  0.1952, -0.0309, -2.1492,\n",
       "         -0.1437,  0.2275,  0.7051, -0.8033, -1.1142, -0.5024, -0.3043,\n",
       "         -0.3937,  1.5907,  0.7546,  0.4070, -0.9339,  0.0660, -0.5743,\n",
       "          2.5009,  2.0092, -0.1756,  0.0325, -2.0641,  1.2151, -1.0471,\n",
       "          0.2828,  0.0171,  1.1028, -0.0282, -1.2556, -0.8235,  0.2235,\n",
       "          0.6192, -0.1250, -1.7448, -0.9815, -0.4995, -1.6134,  0.4600,\n",
       "         -0.9433,  0.0564, -0.4056, -0.3104, -1.8542, -1.2892, -2.5035,\n",
       "         -0.4164,  1.4876, -0.0801,  0.2349, -0.2278,  1.4736,  0.9150,\n",
       "         -1.1023,  0.3562,  0.2195, -0.0339,  0.5170,  0.7890, -0.3789,\n",
       "          1.3861],\n",
       "        [-1.4135,  1.6896,  2.4925,  0.8080,  0.4479, -0.1169,  0.0904,\n",
       "          0.1052, -1.2607, -1.1253, -0.6720, -0.9458,  0.2817,  0.0918,\n",
       "          0.6939,  0.3399, -1.5917, -1.5479, -0.2616, -0.2689,  0.1738,\n",
       "          0.4739, -0.0832,  0.1535,  1.1530, -1.4198,  0.6118, -0.2955,\n",
       "         -1.7384, -0.3763,  1.6314,  1.6483,  0.0122, -0.5404,  0.7506,\n",
       "         -1.0581, -1.5388, -1.8018, -0.3502, -0.0393,  1.5468, -1.6391,\n",
       "         -0.8217,  0.8279,  0.8662,  0.8371, -0.3523,  0.9010,  0.3953,\n",
       "          1.1513,  0.4469, -0.4290,  1.9601,  0.1747,  0.3233, -0.1352,\n",
       "         -1.0922,  1.1045,  1.7750, -1.4578, -0.4892,  0.1217,  0.1065,\n",
       "          0.1124],\n",
       "        [ 0.4188,  0.1137,  1.9612, -0.3719, -0.2129,  0.2498, -0.9422,\n",
       "         -0.3113,  1.2619,  1.6784, -1.0607, -0.4620,  1.2973,  0.8409,\n",
       "         -0.1719,  1.2223,  0.5053, -0.5517, -0.0767, -0.2469,  0.7996,\n",
       "          0.3624,  1.4308, -1.0695, -1.1270, -2.0144, -0.4607, -1.9427,\n",
       "          0.4446, -1.5938,  0.8625, -1.1213, -1.1615, -0.5241, -1.9594,\n",
       "         -1.0755, -0.9168, -1.7263, -0.4063,  0.1971,  1.1730, -0.8220,\n",
       "          0.2192,  1.3125,  0.9569,  0.2700, -0.1142, -0.2912, -0.4961,\n",
       "         -0.6860,  0.8415, -0.2921,  0.0335,  0.9546,  0.5222, -0.4572,\n",
       "         -0.2184,  0.7742,  1.0637,  0.7125, -0.4322,  0.4307,  0.3875,\n",
       "         -1.3584],\n",
       "        [ 0.5266,  0.7017, -0.6161,  1.7879, -0.7184, -0.6706,  0.3830,\n",
       "          0.9845, -0.8241, -0.6206, -1.1171, -0.5256, -0.7839, -0.2722,\n",
       "         -0.1255,  0.4335,  1.1461,  1.0399,  0.0480, -0.4287, -0.8390,\n",
       "          0.6765,  1.2395,  0.9488,  0.9423, -0.7591, -1.1146, -0.0707,\n",
       "         -1.5946,  0.8180,  1.1730,  0.4206, -0.3885,  0.2935, -0.1228,\n",
       "          0.3005,  1.2433, -1.0487,  0.1001,  2.8207, -0.2938, -0.7127,\n",
       "         -1.5834,  1.7266,  0.7255, -1.2053,  0.5202, -0.6938,  1.3985,\n",
       "          1.5854,  1.1344, -0.3134, -1.1920,  0.8821,  0.0100, -0.6057,\n",
       "          0.2846,  0.5991, -0.8504,  1.6080,  0.3408, -1.9121,  1.2537,\n",
       "         -0.5698]])"
      ]
     },
     "execution_count": 43,
     "metadata": {},
     "output_type": "execute_result"
    }
   ],
   "source": [
    "# sample from random normal with standard dev = 0.01\n",
    "model.hidden_1.weight.data.normal_(std=0.01)\n",
    "model.hidden_2.weight.data.normal_(std=0.01)\n",
    "model.output.weight.data.normal_(std=0.01)"
   ]
  },
  {
   "cell_type": "markdown",
   "metadata": {},
   "source": [
    "### Forward pass\n",
    "\n",
    "Now that we have a network, let's see what happens when we pass in an image."
   ]
  },
  {
   "cell_type": "code",
   "execution_count": 44,
   "metadata": {},
   "outputs": [
    {
     "data": {
      "image/png": "[encoded data removed]",
      "text/plain": [
       "<matplotlib.figure.Figure at 0x7f3d9b809be0>"
      ]
     },
     "metadata": {
      "image/png": {
       "height": 224,
       "width": 423
      },
      "needs_background": "light"
     },
     "output_type": "display_data"
    }
   ],
   "source": [
    "# Grab some data \n",
    "dataiter = iter(trainloader)\n",
    "images, labels = dataiter.next()\n",
    "\n",
    "# Resize images into a 1D vector, new shape is (batch size, color channels, image pixels) \n",
    "images.resize_(64, 1, 784)\n",
    "# or images.resize_(images.shape[0], 1, 784) to automatically get batch size\n",
    "\n",
    "# Forward pass through the network\n",
    "img_idx = 0\n",
    "ps = model.forward(images[img_idx,:])\n",
    "\n",
    "img = images[img_idx]\n",
    "# print(img)\n",
    "helper.view_classify(img.view(1, 28, 28), ps)"
   ]
  },
  {
   "cell_type": "markdown",
   "metadata": {},
   "source": [
    "As you can see above, our network has basically no idea what this digit is. It's because we haven't trained it yet, all the weights are random!\n",
    "\n",
    "### Using `nn.Sequential`\n",
    "\n",
    "PyTorch provides a convenient way to build networks like this where a tensor is passed sequentially through operations, `nn.Sequential` ([documentation](https://pytorch.org/docs/master/nn.html#torch.nn.Sequential)). Using this to build the equivalent network:"
   ]
  },
  {
   "cell_type": "code",
   "execution_count": 45,
   "metadata": {},
   "outputs": [
    {
     "name": "stdout",
     "output_type": "stream",
     "text": [
      "Sequential(\n",
      "  (0): Linear(in_features=784, out_features=128, bias=True)\n",
      "  (1): ReLU()\n",
      "  (2): Linear(in_features=128, out_features=64, bias=True)\n",
      "  (3): ReLU()\n",
      "  (4): Linear(in_features=64, out_features=10, bias=True)\n",
      "  (5): Softmax()\n",
      ")\n"
     ]
    },
    {
     "data": {
      "image/png": "[encoded data removed]",
      "text/plain": [
       "<matplotlib.figure.Figure at 0x7f3d981d1518>"
      ]
     },
     "metadata": {
      "image/png": {
       "height": 224,
       "width": 423
      },
      "needs_background": "light"
     },
     "output_type": "display_data"
    }
   ],
   "source": [
    "# Hyperparameters for our network\n",
    "input_size = 784\n",
    "hidden_sizes = [128, 64]\n",
    "output_size = 10\n",
    "\n",
    "# Build a feed-forward network\n",
    "model = nn.Sequential(nn.Linear(input_size, hidden_sizes[0]),\n",
    "                      nn.ReLU(),\n",
    "                      nn.Linear(hidden_sizes[0], hidden_sizes[1]),\n",
    "                      nn.ReLU(),\n",
    "                      nn.Linear(hidden_sizes[1], output_size),\n",
    "                      nn.Softmax(dim=1))\n",
    "print(model)\n",
    "\n",
    "# Forward pass through the network and display output\n",
    "images, labels = next(iter(trainloader))\n",
    "images.resize_(images.shape[0], 1, 784)\n",
    "ps = model.forward(images[0,:])\n",
    "helper.view_classify(images[0].view(1, 28, 28), ps)"
   ]
  },
  {
   "cell_type": "markdown",
   "metadata": {},
   "source": [
    "Here our model is the same as before: 784 input units, a hidden layer with 128 units, ReLU activation, 64 unit hidden layer, another ReLU, then the output layer with 10 units, and the softmax output.\n",
    "\n",
    "The operations are availble by passing in the appropriate index. For example, if you want to get first Linear operation and look at the weights, you'd use `model[0]`."
   ]
  },
  {
   "cell_type": "code",
   "execution_count": 46,
   "metadata": {},
   "outputs": [
    {
     "name": "stdout",
     "output_type": "stream",
     "text": [
      "Linear(in_features=784, out_features=128, bias=True)\n"
     ]
    },
    {
     "data": {
      "text/plain": [
       "Parameter containing:\n",
       "tensor([[ 3.4795e-02, -1.7978e-02,  1.6037e-02,  ...,  2.3333e-03,\n",
       "         -1.6298e-03,  1.2461e-02],\n",
       "        [ 1.1621e-02, -2.7603e-02,  1.2730e-02,  ...,  3.4627e-02,\n",
       "          2.6592e-02,  8.6925e-03],\n",
       "        [ 1.7169e-02,  1.0230e-02, -5.6280e-03,  ..., -1.0018e-02,\n",
       "          1.1030e-02, -2.0451e-02],\n",
       "        ...,\n",
       "        [-2.6273e-02, -2.1817e-02, -1.7884e-02,  ..., -2.4257e-02,\n",
       "          5.6083e-03,  2.8041e-02],\n",
       "        [ 3.1956e-02,  6.4105e-03,  1.5225e-02,  ..., -1.6747e-02,\n",
       "          1.6040e-02, -1.0444e-02],\n",
       "        [-6.9217e-03,  2.4586e-02, -2.3833e-02,  ...,  1.2395e-02,\n",
       "          1.9668e-02,  2.0165e-03]])"
      ]
     },
     "execution_count": 46,
     "metadata": {},
     "output_type": "execute_result"
    }
   ],
   "source": [
    "print(model[0])\n",
    "model[0].weight"
   ]
  },
  {
   "cell_type": "markdown",
   "metadata": {},
   "source": [
    "You can also pass in an `OrderedDict` to name the individual layers and operations, instead of using incremental integers. Note that dictionary keys must be unique, so _each operation must have a different name_."
   ]
  },
  {
   "cell_type": "code",
   "execution_count": 47,
   "metadata": {},
   "outputs": [
    {
     "data": {
      "text/plain": [
       "Sequential(\n",
       "  (fc1): Linear(in_features=784, out_features=128, bias=True)\n",
       "  (relu1): ReLU()\n",
       "  (fc2): Linear(in_features=128, out_features=64, bias=True)\n",
       "  (relu2): ReLU()\n",
       "  (output): Linear(in_features=64, out_features=10, bias=True)\n",
       "  (softmax): Softmax()\n",
       ")"
      ]
     },
     "execution_count": 47,
     "metadata": {},
     "output_type": "execute_result"
    }
   ],
   "source": [
    "from collections import OrderedDict\n",
    "model = nn.Sequential(OrderedDict([\n",
    "                      ('fc1', nn.Linear(input_size, hidden_sizes[0])),\n",
    "                      ('relu1', nn.ReLU()),\n",
    "                      ('fc2', nn.Linear(hidden_sizes[0], hidden_sizes[1])),\n",
    "                      ('relu2', nn.ReLU()),\n",
    "                      ('output', nn.Linear(hidden_sizes[1], output_size)),\n",
    "                      ('softmax', nn.Softmax(dim=1))]))\n",
    "model"
   ]
  },
  {
   "cell_type": "markdown",
   "metadata": {},
   "source": [
    "Now you can access layers either by integer or the name"
   ]
  },
  {
   "cell_type": "code",
   "execution_count": 48,
   "metadata": {},
   "outputs": [
    {
     "name": "stdout",
     "output_type": "stream",
     "text": [
      "Linear(in_features=784, out_features=128, bias=True)\n",
      "Linear(in_features=784, out_features=128, bias=True)\n"
     ]
    }
   ],
   "source": [
    "print(model[0])\n",
    "print(model.fc1)"
   ]
  },
  {
   "cell_type": "markdown",
   "metadata": {},
   "source": [
    "In the next notebook, we'll see how we can train a neural network to accuractly predict the numbers appearing in the MNIST images."
   ]
  }
 ],
 "metadata": {
  "kernelspec": {
   "display_name": "Python 3",
   "language": "python",
   "name": "python3"
  },
  "language_info": {
   "codemirror_mode": {
    "name": "ipython",
    "version": 3
   },
   "file_extension": ".py",
   "mimetype": "text/x-python",
   "name": "python",
   "nbconvert_exporter": "python",
   "pygments_lexer": "ipython3",
   "version": "3.6.3"
  }
 },
 "nbformat": 4,
 "nbformat_minor": 2
}
